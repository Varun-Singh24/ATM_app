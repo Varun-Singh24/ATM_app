{
 "cells": [
  {
   "cell_type": "code",
   "execution_count": 2,
   "metadata": {},
   "outputs": [],
   "source": [
    "#  Creating a Atm Working app \n",
    "\n",
    "class Atm :\n",
    "    def __init__(self) :\n",
    "        self.pin = ''\n",
    "        self.balance = 0 \n",
    "        print(id(self))\n",
    "        self.menu()\n",
    "    def menu(self) :\n",
    "        user_input = input(\"\"\" \n",
    "        How can I help you ? \n",
    "        Press\n",
    "        1.To Create your Pin \n",
    "        2.To Change Pin \n",
    "        3.To Check balance \n",
    "        4.To withdraw money \n",
    "        5.Anything to Exit.....\n",
    "        \"\"\")\n",
    "        \n",
    "        if user_input == '1':\n",
    "        # Create pin \n",
    "            self.create_pin()\n",
    "            \n",
    "        elif user_input == '2' :\n",
    "            self.change_pin()\n",
    "        \n",
    "        elif user_input == '3' :\n",
    "            self.check_balance()\n",
    "        # check balance \n",
    "                           \n",
    "        elif user_input == '4' :\n",
    "        # Withdraw  Money \n",
    "            self.withdraw()\n",
    "        else:\n",
    "            exit(\"Thank You ! \") \n",
    "        \n",
    "    def create_pin(self) :\n",
    "        user_pin = input(\"Enter the Pin : \")\n",
    "        self.pin = user_pin\n",
    "        print(\"Pin Created Successfully ! \") \n",
    "        amount = int(input(\"Enter the Amount : \"))\n",
    "        self.balance = amount\n",
    "        self.menu()\n",
    "    def change_pin(self) :\n",
    "        old_pin = input(\"Enter Old pin : \")\n",
    "        if old_pin == self.pin :\n",
    "            new_pin = input(\"Enter new pin : \")\n",
    "            self.pin = new_pin\n",
    "            print(\"Pin changed sucessfully !\")\n",
    "        else : \n",
    "            print(\"Wrong pin ! \")\n",
    "        self.menu()\n",
    "    def check_balance(self) :\n",
    "        user_pin = input(\"Enter the Pin : \")\n",
    "        if user_pin == self.pin :\n",
    "            print(\"Your balance amount is : \", self.balance )\n",
    "        else :\n",
    "            print(\"Wrong Pin !\")\n",
    "        self.menu()\n",
    "    def withdraw(self) :\n",
    "        user_pin = input(\"Enter pin : \")\n",
    "        if user_pin == self.pin :\n",
    "            amount = int(input(\"Enter amount to withdraw : \"))\n",
    "            if amount <= self.balance :\n",
    "                self.balance = self.balance - amount\n",
    "                print(\"Withdraw Success ! Remaining Balance : \", self.balance)\n",
    "            else :\n",
    "                print(\"Balance kam hai !\")\n",
    "        else : \n",
    "            print(\"Wrong Pin ! \")         "
   ]
  },
  {
   "cell_type": "code",
   "execution_count": 3,
   "metadata": {},
   "outputs": [
    {
     "name": "stdout",
     "output_type": "stream",
     "text": [
      "2635460399568\n",
      "Pin Created Successfully ! \n",
      "Your balance amount is :  10000\n"
     ]
    }
   ],
   "source": [
    "myatm = Atm()"
   ]
  },
  {
   "cell_type": "code",
   "execution_count": null,
   "metadata": {},
   "outputs": [],
   "source": []
  }
 ],
 "metadata": {
  "kernelspec": {
   "display_name": "base",
   "language": "python",
   "name": "python3"
  },
  "language_info": {
   "codemirror_mode": {
    "name": "ipython",
    "version": 3
   },
   "file_extension": ".py",
   "mimetype": "text/x-python",
   "name": "python",
   "nbconvert_exporter": "python",
   "pygments_lexer": "ipython3",
   "version": "3.11.5"
  }
 },
 "nbformat": 4,
 "nbformat_minor": 2
}
